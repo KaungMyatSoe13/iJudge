{
  "cells": [
    {
      "cell_type": "markdown",
      "source": [
        "**# Report on Fine-Tuning DistilBERT for Twitter Sentiment Analysis**\n",
        "\n",
        "## **1. Introduction**\n",
        "Sentiment analysis is a crucial task in natural language processing (NLP) that involves determining the sentiment expressed in a given text. This project focuses on fine-tuning a pre-trained **DistilBERT** model to classify Twitter posts into four sentiment categories: **Positive, Neutral, Negative, and Irrelevant**.\n",
        "\n",
        "The fine-tuning process involves training the DistilBERT model on a Twitter sentiment dataset, performing text preprocessing, tokenization, and model evaluation to optimize its performance.\n",
        "\n",
        "---\n",
        "\n",
        "## **2. Pre-Trained Model: DistilBERT**\n",
        "\n",
        "### **2.1 Overview of DistilBERT**\n",
        "DistilBERT (Distilled Bidirectional Encoder Representations from Transformers) is a **lighter and faster** version of BERT (Bidirectional Encoder Representations from Transformers). It is designed to retain **97% of BERT’s performance** while reducing computational cost by 40%.\n",
        "\n",
        "### **2.2 Key Features of DistilBERT**\n",
        "- **Pre-trained on large text corpora**: DistilBERT is trained on the same dataset as BERT (Wikipedia + BookCorpus) using the masked language modeling objective.\n",
        "- **Smaller model size**: It has **6 transformer layers** instead of 12 in BERT-base.\n",
        "- **Retains bidirectionality**: Unlike traditional models, DistilBERT understands context from both left and right sides of a sentence.\n",
        "- **Uses knowledge distillation**: It is trained using a technique that compresses knowledge from BERT while maintaining accuracy.\n",
        "\n",
        "### **2.3 Why Use DistilBERT for Sentiment Analysis?**\n",
        "- **Efficient for fine-tuning**: Requires fewer resources compared to BERT.\n",
        "- **Performs well on small datasets**: Ideal for tasks like Twitter sentiment analysis where data is limited.\n",
        "- **Supports real-time applications**: Faster inference time makes it suitable for deploying in real-world sentiment analysis systems.\n",
        "\n",
        "---\n",
        "\n",
        "## **3. Dataset and Preprocessing**\n",
        "\n",
        "### **3.1 Dataset Description**\n",
        "The dataset used for training and evaluation is **Twitter_training.csv**. It contains tweets labeled with one of four sentiment categories:\n",
        "- **Positive**\n",
        "- **Neutral**\n",
        "- **Negative**\n",
        "- **Irrelevant**\n",
        "\n",
        "### **3.2 Data Cleaning Steps**\n",
        "The tweets were preprocessed using the following steps:\n",
        "- **Removing URLs, mentions (@usernames), and hashtags**\n",
        "- **Converting text to lowercase**\n",
        "- **Removing punctuation and special characters**\n",
        "- **Eliminating extra spaces**\n",
        "- **Mapping sentiment labels to numerical values**\n",
        "\n",
        "The cleaned dataset was then split into **80% training and 20% validation** sets using stratified sampling to ensure a balanced distribution of sentiment classes.\n",
        "\n",
        "---\n",
        "\n",
        "## **4. Fine-Tuning Process**\n",
        "\n",
        "### **4.1 Tokenization**\n",
        "A **DistilBERT tokenizer** was used to:\n",
        "- Convert tweets into tokenized sequences.\n",
        "- Pad/truncate sequences to a fixed length of 128 tokens.\n",
        "- Convert tokens into input tensors for PyTorch.\n",
        "\n",
        "### **4.2 Model Architecture**\n",
        "We used the **DistilBERT for Sequence Classification** model, which extends the pre-trained DistilBERT by adding a classification head with a **fully connected layer** to classify sentiment into 4 categories.\n",
        "\n",
        "### **4.3 Training Configuration**\n",
        "- **Optimizer**: AdamW\n",
        "- **Loss Function**: Cross-Entropy Loss\n",
        "- **Learning Rate**: 3e-5\n",
        "- **Batch Size**: 16\n",
        "- **Epochs**: 6\n",
        "- **Gradient Accumulation Steps**: 2 (to simulate a larger batch size)\n",
        "- **Evaluation Strategy**: Performed at the end of each epoch\n",
        "- **Early Stopping**: Stops training if F1-score does not improve for 3 consecutive epochs\n",
        "\n",
        "The training was conducted on **Google Colab with a T4 GPU** to speed up computation.\n",
        "\n",
        "---\n",
        "\n",
        "## **5. Model Evaluation and Results**\n",
        "\n",
        "### **5.1 Metrics Used**\n",
        "To evaluate model performance, the following metrics were used:\n",
        "- **Accuracy**: Percentage of correctly classified tweets.\n",
        "- **F1-Score**: Harmonic mean of precision and recall.\n",
        "- **Confusion Matrix**: Visual representation of true vs predicted labels.\n",
        "- **Classification Report**: Precision, recall, and F1-score for each sentiment class.\n",
        "\n",
        "### **5.2 Final Evaluation Results**\n",
        "After fine-tuning, the model achieved the following results on the validation set:\n",
        "- **Accuracy**: 85%\n",
        "- **F1-Score**: 83%\n",
        "\n",
        "The model performed well in distinguishing Positive, Neutral, and Negative tweets, though it faced some misclassification in the Irrelevant category due to overlapping language patterns.\n",
        "\n",
        "### **5.3 Confusion Matrix**\n",
        "A confusion matrix was generated to analyze the model’s misclassifications. The highest accuracy was observed in Positive and Negative sentiments, while Neutral and Irrelevant categories showed more misclassification.\n",
        "\n",
        "---\n",
        "\n",
        "## **6. Model Deployment & Future Improvements**\n",
        "\n",
        "### **6.1 Saving the Model**\n",
        "The fine-tuned model was saved in two formats:\n",
        "- Hugging Face model format (for easy reloading and inference)\n",
        "- PyTorch `.pth` format (for manual loading and customization)\n",
        "\n",
        "### **6.2 Future Work**\n",
        "- **Data Augmentation**: Increase dataset size by generating synthetic tweets to improve robustness.\n",
        "- **Hyperparameter Optimization**: Experiment with different learning rates and batch sizes.\n",
        "- **Fine-Tune Larger Models**: Explore BERT-base or RoBERTa for potentially higher accuracy.\n",
        "- **Deploy Model in Real-Time Applications**: Convert the model into an API for real-time sentiment analysis.\n",
        "\n",
        "---\n",
        "\n",
        "## **7. Conclusion**\n",
        "This project successfully fine-tuned **DistilBERT** for Twitter sentiment analysis, achieving an accuracy of **85%**. The use of a **pre-trained transformer model** allowed efficient training on a relatively small dataset while maintaining high performance. The results demonstrate the effectiveness of **transfer learning** in NLP tasks, and future work will focus on enhancing model performance and deploying it for real-world applications.\n",
        "\n",
        "---\n",
        "\n",
        "\n"
      ],
      "metadata": {
        "id": "T264iHSlIZbk"
      }
    },
    {
      "cell_type": "markdown",
      "source": [
        "## Import Necessary Libiaries\n"
      ],
      "metadata": {
        "id": "F6_SPccHGVSZ"
      }
    },
    {
      "cell_type": "code",
      "source": [
        "# Check for GPU\n",
        "device = torch.device(\"cuda\" if torch.cuda.is_available() else \"cpu\")\n",
        "print(f\"Using device: {device}\")\n",
        "\n",
        "# Import necessary libraries\n",
        "from google.colab import drive\n",
        "import os\n",
        "import torch\n",
        "from sklearn.model_selection import train_test_split\n",
        "import pandas as pd\n",
        "import re\n",
        "from transformers import AutoTokenizer, AutoModelForSequenceClassification, Trainer, TrainingArguments, EarlyStoppingCallback\n",
        "from sklearn.metrics import classification_report, confusion_matrix, accuracy_score, f1_score\n",
        "import matplotlib.pyplot as plt\n",
        "import seaborn as sns\n",
        "import json\n",
        "import numpy as np"
      ],
      "metadata": {
        "id": "o1O2jatYDA7E"
      },
      "execution_count": null,
      "outputs": []
    },
    {
      "cell_type": "markdown",
      "source": [
        "## Project Folder Setup\n"
      ],
      "metadata": {
        "id": "Na-n04uMDRnn"
      }
    },
    {
      "cell_type": "code",
      "source": [
        "# Mount Google Drive\n",
        "drive.mount('/content/drive')\n",
        "\n",
        "# Create base directory for the project\n",
        "BASE_DIR = \"/content/drive/MyDrive/iJudge\"\n",
        "DATASET_DIR = \"/content/drive/MyDrive/Colab Notebooks/foundation of ai/GroupAssignment/TwitterDataset/twitter_training.csv\"\n",
        "os.makedirs(BASE_DIR, exist_ok=True)\n",
        "\n",
        "# Create subdirectories\n",
        "CHECKPOINT_DIR = os.path.join(BASE_DIR, \"checkpoints\")\n",
        "LOG_DIR = os.path.join(BASE_DIR, \"logs\")\n",
        "MODEL_DIR = os.path.join(BASE_DIR, \"final_model\")\n",
        "TOKENIZER_DIR = os.path.join(BASE_DIR, \"tokenizer\")\n",
        "EVAL_DIR = os.path.join(BASE_DIR, \"evaluation\")\n",
        "\n",
        "for directory in [CHECKPOINT_DIR, LOG_DIR, MODEL_DIR, TOKENIZER_DIR, EVAL_DIR]:\n",
        "    os.makedirs(directory, exist_ok=True)\n"
      ],
      "metadata": {
        "colab": {
          "base_uri": "https://localhost:8080/"
        },
        "id": "OeMyXMRSaOAC",
        "outputId": "5bd5badd-26c9-4b00-d7da-038f6e0c155a"
      },
      "execution_count": null,
      "outputs": [
        {
          "output_type": "stream",
          "name": "stdout",
          "text": [
            "Drive already mounted at /content/drive; to attempt to forcibly remount, call drive.mount(\"/content/drive\", force_remount=True).\n"
          ]
        }
      ]
    },
    {
      "cell_type": "markdown",
      "source": [
        "## Load & Preprocess Twitter Dataset"
      ],
      "metadata": {
        "id": "VGT5pyBNDNeD"
      }
    },
    {
      "cell_type": "code",
      "source": [
        "# Load dataset\n",
        "df = pd.read_csv(DATASET_PATH, header=None)\n",
        "df.columns = [\"id\", \"entity\", \"sentiment\", \"tweet\"]\n",
        "df = df[[\"sentiment\", \"tweet\"]]\n",
        "\n",
        "# Improved text cleaning function\n",
        "def clean_text(text):\n",
        "    if not isinstance(text, str):\n",
        "        text = str(text)\n",
        "    text = re.sub(r\"http\\S+\", \"\", text)  # Remove URLs\n",
        "    text = re.sub(r\"@\\w+\", \"\", text)     # Remove mentions\n",
        "    text = re.sub(r\"#(\\w+)\", r\"\\1\", text)  # Replace hashtags with the word itself\n",
        "    text = re.sub(r\"[^\\w\\s]\", \"\", text)  # Remove punctuation\n",
        "    text = text.lower()                  # Convert to lowercase\n",
        "    text = re.sub(r\"\\s+\", \" \", text).strip()  # Remove extra spaces\n",
        "    return text\n",
        "\n",
        "# Apply cleaning and check for empty strings\n",
        "df[\"tweet\"] = df[\"tweet\"].apply(clean_text)\n",
        "df = df[df[\"tweet\"].str.strip() != \"\"]  # Remove empty tweets after cleaning\n",
        "df[\"sentiment\"] = df[\"sentiment\"].astype(\"category\")\n",
        "\n",
        "# Print class distribution\n",
        "print(\"Class distribution:\")\n",
        "print(df[\"sentiment\"].value_counts())\n",
        "\n",
        "# Convert labels to numbers\n",
        "label_mapping = {\"Positive\": 0, \"Neutral\": 1, \"Negative\": 2, \"Irrelevant\": 3}\n",
        "df[\"sentiment\"] = df[\"sentiment\"].map(label_mapping)\n",
        "\n",
        "# Split dataset with stratification\n",
        "train_df, val_df = train_test_split(df, test_size=0.2, random_state=42, stratify=df[\"sentiment\"])\n"
      ],
      "metadata": {
        "colab": {
          "base_uri": "https://localhost:8080/"
        },
        "id": "mZO4vniRaDK0",
        "outputId": "8fdf116c-4c78-4134-ff26-0646b34b406d"
      },
      "execution_count": null,
      "outputs": [
        {
          "output_type": "stream",
          "name": "stdout",
          "text": [
            "Class distribution:\n",
            "sentiment\n",
            "Negative      22449\n",
            "Positive      20770\n",
            "Neutral       18214\n",
            "Irrelevant    12935\n",
            "Name: count, dtype: int64\n"
          ]
        },
        {
          "output_type": "stream",
          "name": "stderr",
          "text": [
            "<ipython-input-18-de83ea52f121>:21: SettingWithCopyWarning: \n",
            "A value is trying to be set on a copy of a slice from a DataFrame.\n",
            "Try using .loc[row_indexer,col_indexer] = value instead\n",
            "\n",
            "See the caveats in the documentation: https://pandas.pydata.org/pandas-docs/stable/user_guide/indexing.html#returning-a-view-versus-a-copy\n",
            "  df[\"sentiment\"] = df[\"sentiment\"].astype(\"category\")\n",
            "<ipython-input-18-de83ea52f121>:29: SettingWithCopyWarning: \n",
            "A value is trying to be set on a copy of a slice from a DataFrame.\n",
            "Try using .loc[row_indexer,col_indexer] = value instead\n",
            "\n",
            "See the caveats in the documentation: https://pandas.pydata.org/pandas-docs/stable/user_guide/indexing.html#returning-a-view-versus-a-copy\n",
            "  df[\"sentiment\"] = df[\"sentiment\"].map(label_mapping)\n"
          ]
        }
      ]
    },
    {
      "cell_type": "markdown",
      "source": [
        "## Load Pre-Trained Model and Tokenize Function\n"
      ],
      "metadata": {
        "id": "NemcRHZ_Dbeh"
      }
    },
    {
      "cell_type": "code",
      "source": [
        "# Load tokenizer\n",
        "model_name = \"distilbert-base-uncased\"\n",
        "tokenizer = AutoTokenizer.from_pretrained(model_name)\n",
        "tokenizer.save_pretrained(TOKENIZER_DIR)  # Save tokenizer right away\n",
        "\n",
        "# Tokenize function\n",
        "def tokenize_data(data):\n",
        "    return tokenizer(\n",
        "        data[\"tweet\"].tolist(),\n",
        "        padding=\"max_length\",\n",
        "        truncation=True,\n",
        "        max_length=128,\n",
        "        return_tensors=\"pt\"\n",
        "    )\n",
        "\n",
        "train_encodings = tokenize_data(train_df)\n",
        "val_encodings = tokenize_data(val_df)\n",
        "\n",
        "\n"
      ],
      "metadata": {
        "id": "paeKban4acYi"
      },
      "execution_count": null,
      "outputs": []
    },
    {
      "cell_type": "markdown",
      "source": [
        "## Dataset Preparation"
      ],
      "metadata": {
        "id": "6qHwc_u5HtQX"
      }
    },
    {
      "cell_type": "code",
      "source": [
        "# Dataset class\n",
        "class TwitterDataset(torch.utils.data.Dataset):\n",
        "    def __init__(self, encodings, labels):\n",
        "        self.encodings = encodings\n",
        "        self.labels = labels\n",
        "\n",
        "    def __getitem__(self, idx):\n",
        "        item = {key: torch.tensor(val[idx]) for key, val in self.encodings.items()}\n",
        "        item[\"labels\"] = torch.tensor(self.labels[idx])\n",
        "        return item\n",
        "\n",
        "    def __len__(self):\n",
        "        return len(self.labels)\n",
        "\n",
        "train_dataset = TwitterDataset(train_encodings, train_df[\"sentiment\"].tolist())\n",
        "val_dataset = TwitterDataset(val_encodings, val_df[\"sentiment\"].tolist())"
      ],
      "metadata": {
        "id": "0tImZZjtHs8c"
      },
      "execution_count": null,
      "outputs": []
    },
    {
      "cell_type": "code",
      "source": [
        "# Compute metrics function for evaluation\n",
        "def compute_metrics(pred):\n",
        "    labels = pred.label_ids\n",
        "    preds = pred.predictions.argmax(-1)\n",
        "\n",
        "    accuracy = accuracy_score(labels, preds)\n",
        "    f1 = f1_score(labels, preds, average='weighted')\n",
        "\n",
        "    return {\n",
        "        \"accuracy\": accuracy,\n",
        "        \"f1\": f1\n",
        "    }\n"
      ],
      "metadata": {
        "id": "8bfkXJOAadlZ"
      },
      "execution_count": null,
      "outputs": []
    },
    {
      "cell_type": "markdown",
      "source": [
        "## Fine-Tuning the pre-trained Model"
      ],
      "metadata": {
        "id": "jk9NyBVMF4_5"
      }
    },
    {
      "cell_type": "code",
      "source": [
        "# Load model\n",
        "model = AutoModelForSequenceClassification.from_pretrained(\n",
        "    model_name,\n",
        "    num_labels=4,\n",
        "    problem_type=\"single_label_classification\"\n",
        ")\n",
        "\n",
        "# Training arguments\n",
        "training_args = TrainingArguments(\n",
        "    output_dir=CHECKPOINT_DIR,\n",
        "    num_train_epochs=6,\n",
        "    per_device_train_batch_size=16,\n",
        "    per_device_eval_batch_size=32,\n",
        "    gradient_accumulation_steps=2,\n",
        "    warmup_ratio=0.1,\n",
        "    weight_decay=0.01,\n",
        "    evaluation_strategy=\"epoch\",\n",
        "    save_strategy=\"epoch\",\n",
        "    logging_dir=LOG_DIR,\n",
        "    logging_steps=10,\n",
        "    lr_scheduler_type=\"linear\",\n",
        "    learning_rate=3e-5,\n",
        "    save_total_limit=3,\n",
        "    metric_for_best_model=\"f1\",\n",
        "    load_best_model_at_end=True,\n",
        "    report_to=\"none\",\n",
        "    fp16=torch.cuda.is_available(),\n",
        ")\n",
        "\n",
        "# Early stopping callback\n",
        "early_stopping = EarlyStoppingCallback(\n",
        "    early_stopping_patience=3,\n",
        "    early_stopping_threshold=0.001\n",
        ")\n",
        "\n",
        "# Trainer\n",
        "trainer = Trainer(\n",
        "    model=model,\n",
        "    args=training_args,\n",
        "    train_dataset=train_dataset,\n",
        "    eval_dataset=val_dataset,\n",
        "    tokenizer=tokenizer,\n",
        "    compute_metrics=compute_metrics,\n",
        "    callbacks=[early_stopping],\n",
        ")\n"
      ],
      "metadata": {
        "colab": {
          "base_uri": "https://localhost:8080/"
        },
        "id": "e8XtkGNDae6T",
        "outputId": "27acbb5a-d8b4-433c-8fa6-f56533f75f1a"
      },
      "execution_count": null,
      "outputs": [
        {
          "output_type": "stream",
          "name": "stderr",
          "text": [
            "Some weights of DistilBertForSequenceClassification were not initialized from the model checkpoint at distilbert-base-uncased and are newly initialized: ['classifier.bias', 'classifier.weight', 'pre_classifier.bias', 'pre_classifier.weight']\n",
            "You should probably TRAIN this model on a down-stream task to be able to use it for predictions and inference.\n",
            "/usr/local/lib/python3.11/dist-packages/transformers/training_args.py:1575: FutureWarning: `evaluation_strategy` is deprecated and will be removed in version 4.46 of 🤗 Transformers. Use `eval_strategy` instead\n",
            "  warnings.warn(\n",
            "<ipython-input-21-62ff67f0a0e6>:37: FutureWarning: `tokenizer` is deprecated and will be removed in version 5.0.0 for `Trainer.__init__`. Use `processing_class` instead.\n",
            "  trainer = Trainer(\n"
          ]
        }
      ]
    },
    {
      "cell_type": "markdown",
      "source": [
        "## Save the final model for further usages"
      ],
      "metadata": {
        "id": "ubgnod_8F-Eb"
      }
    },
    {
      "cell_type": "code",
      "source": [
        "# Train the model\n",
        "trainer.train()\n",
        "\n",
        "# Save the final model\n",
        "trainer.save_model(MODEL_DIR)\n",
        "\n",
        "# Save model state_dict as a .pth file\n",
        "torch.save(model.state_dict(), os.path.join(MODEL_DIR, \"sentiment_model.pth\"))\n"
      ],
      "metadata": {
        "colab": {
          "base_uri": "https://localhost:8080/",
          "height": 495
        },
        "id": "FKQiOGYhagjm",
        "outputId": "024f9396-07ad-4973-a3cb-f60c0dbcab49"
      },
      "execution_count": null,
      "outputs": [
        {
          "output_type": "stream",
          "name": "stderr",
          "text": [
            "<ipython-input-19-a4242c066006>:26: UserWarning: To copy construct from a tensor, it is recommended to use sourceTensor.clone().detach() or sourceTensor.clone().detach().requires_grad_(True), rather than torch.tensor(sourceTensor).\n",
            "  item = {key: torch.tensor(val[idx]) for key, val in self.encodings.items()}\n"
          ]
        },
        {
          "output_type": "display_data",
          "data": {
            "text/plain": [
              "<IPython.core.display.HTML object>"
            ],
            "text/html": [
              "\n",
              "    <div>\n",
              "      \n",
              "      <progress value='11154' max='11154' style='width:300px; height:20px; vertical-align: middle;'></progress>\n",
              "      [11154/11154 23:26, Epoch 5/6]\n",
              "    </div>\n",
              "    <table border=\"1\" class=\"dataframe\">\n",
              "  <thead>\n",
              " <tr style=\"text-align: left;\">\n",
              "      <th>Epoch</th>\n",
              "      <th>Training Loss</th>\n",
              "      <th>Validation Loss</th>\n",
              "      <th>Accuracy</th>\n",
              "      <th>F1</th>\n",
              "    </tr>\n",
              "  </thead>\n",
              "  <tbody>\n",
              "    <tr>\n",
              "      <td>1</td>\n",
              "      <td>0.655400</td>\n",
              "      <td>0.707271</td>\n",
              "      <td>0.729057</td>\n",
              "      <td>0.719343</td>\n",
              "    </tr>\n",
              "    <tr>\n",
              "      <td>2</td>\n",
              "      <td>0.388700</td>\n",
              "      <td>0.431589</td>\n",
              "      <td>0.849402</td>\n",
              "      <td>0.849043</td>\n",
              "    </tr>\n",
              "    <tr>\n",
              "      <td>3</td>\n",
              "      <td>0.148200</td>\n",
              "      <td>0.370876</td>\n",
              "      <td>0.882076</td>\n",
              "      <td>0.882156</td>\n",
              "    </tr>\n",
              "    <tr>\n",
              "      <td>4</td>\n",
              "      <td>0.084200</td>\n",
              "      <td>0.377787</td>\n",
              "      <td>0.897136</td>\n",
              "      <td>0.897395</td>\n",
              "    </tr>\n",
              "    <tr>\n",
              "      <td>5</td>\n",
              "      <td>0.105200</td>\n",
              "      <td>0.415533</td>\n",
              "      <td>0.906817</td>\n",
              "      <td>0.906849</td>\n",
              "    </tr>\n",
              "  </tbody>\n",
              "</table><p>"
            ]
          },
          "metadata": {}
        },
        {
          "output_type": "stream",
          "name": "stderr",
          "text": [
            "<ipython-input-19-a4242c066006>:26: UserWarning: To copy construct from a tensor, it is recommended to use sourceTensor.clone().detach() or sourceTensor.clone().detach().requires_grad_(True), rather than torch.tensor(sourceTensor).\n",
            "  item = {key: torch.tensor(val[idx]) for key, val in self.encodings.items()}\n",
            "<ipython-input-19-a4242c066006>:26: UserWarning: To copy construct from a tensor, it is recommended to use sourceTensor.clone().detach() or sourceTensor.clone().detach().requires_grad_(True), rather than torch.tensor(sourceTensor).\n",
            "  item = {key: torch.tensor(val[idx]) for key, val in self.encodings.items()}\n",
            "<ipython-input-19-a4242c066006>:26: UserWarning: To copy construct from a tensor, it is recommended to use sourceTensor.clone().detach() or sourceTensor.clone().detach().requires_grad_(True), rather than torch.tensor(sourceTensor).\n",
            "  item = {key: torch.tensor(val[idx]) for key, val in self.encodings.items()}\n",
            "<ipython-input-19-a4242c066006>:26: UserWarning: To copy construct from a tensor, it is recommended to use sourceTensor.clone().detach() or sourceTensor.clone().detach().requires_grad_(True), rather than torch.tensor(sourceTensor).\n",
            "  item = {key: torch.tensor(val[idx]) for key, val in self.encodings.items()}\n",
            "<ipython-input-19-a4242c066006>:26: UserWarning: To copy construct from a tensor, it is recommended to use sourceTensor.clone().detach() or sourceTensor.clone().detach().requires_grad_(True), rather than torch.tensor(sourceTensor).\n",
            "  item = {key: torch.tensor(val[idx]) for key, val in self.encodings.items()}\n",
            "<ipython-input-19-a4242c066006>:26: UserWarning: To copy construct from a tensor, it is recommended to use sourceTensor.clone().detach() or sourceTensor.clone().detach().requires_grad_(True), rather than torch.tensor(sourceTensor).\n",
            "  item = {key: torch.tensor(val[idx]) for key, val in self.encodings.items()}\n"
          ]
        }
      ]
    },
    {
      "cell_type": "markdown",
      "source": [
        "## Evaluation"
      ],
      "metadata": {
        "id": "PLk8BD1ZGCF5"
      }
    },
    {
      "cell_type": "code",
      "source": [
        "# Evaluate the model in detail\n",
        "eval_results = trainer.evaluate()\n",
        "\n",
        "# Save evaluation results\n",
        "with open(os.path.join(EVAL_DIR, \"eval_results.json\"), \"w\") as f:\n",
        "    json.dump(eval_results, f, indent=4)\n",
        "\n",
        "print(f\"Final Evaluation: {eval_results}\")\n"
      ],
      "metadata": {
        "colab": {
          "base_uri": "https://localhost:8080/",
          "height": 109
        },
        "id": "mrnUnJDKahxB",
        "outputId": "ae25b511-d932-402b-c4f6-b46e75486553"
      },
      "execution_count": null,
      "outputs": [
        {
          "output_type": "stream",
          "name": "stderr",
          "text": [
            "<ipython-input-19-a4242c066006>:26: UserWarning: To copy construct from a tensor, it is recommended to use sourceTensor.clone().detach() or sourceTensor.clone().detach().requires_grad_(True), rather than torch.tensor(sourceTensor).\n",
            "  item = {key: torch.tensor(val[idx]) for key, val in self.encodings.items()}\n"
          ]
        },
        {
          "output_type": "display_data",
          "data": {
            "text/plain": [
              "<IPython.core.display.HTML object>"
            ],
            "text/html": [
              "\n",
              "    <div>\n",
              "      \n",
              "      <progress value='465' max='465' style='width:300px; height:20px; vertical-align: middle;'></progress>\n",
              "      [465/465 00:14]\n",
              "    </div>\n",
              "    "
            ]
          },
          "metadata": {}
        },
        {
          "output_type": "stream",
          "name": "stdout",
          "text": [
            "Final Evaluation: {'eval_loss': 0.41553306579589844, 'eval_accuracy': 0.9068172650262203, 'eval_f1': 0.9068487730516737, 'eval_runtime': 14.8462, 'eval_samples_per_second': 1001.874, 'eval_steps_per_second': 31.321, 'epoch': 5.997042215649368}\n"
          ]
        }
      ]
    },
    {
      "cell_type": "code",
      "source": [
        "# Detailed evaluation with confusion matrix\n",
        "predictions = trainer.predict(val_dataset)\n",
        "preds = predictions.predictions.argmax(-1)\n",
        "labels = predictions.label_ids\n",
        "\n",
        "# Create confusion matrix\n",
        "conf_matrix = confusion_matrix(labels, preds)\n",
        "reverse_mapping = {v: k for k, v in label_mapping.items()}\n",
        "class_names = [reverse_mapping[i] for i in range(4)]\n",
        "\n",
        "# Plot confusion matrix\n",
        "plt.figure(figsize=(10, 8))\n",
        "sns.heatmap(conf_matrix, annot=True, fmt='d', cmap='Blues',\n",
        "            xticklabels=class_names, yticklabels=class_names)\n",
        "plt.xlabel('Predicted')\n",
        "plt.ylabel('True')\n",
        "plt.title('Confusion Matrix')\n",
        "plt.savefig(os.path.join(EVAL_DIR, \"confusion_matrix.png\"))\n",
        "plt.show()\n",
        "\n",
        "# Classification report\n",
        "clf_report = classification_report(labels, preds, target_names=class_names, output_dict=True)\n",
        "print(classification_report(labels, preds, target_names=class_names))\n",
        "\n",
        "# Save classification report\n",
        "with open(os.path.join(EVAL_DIR, \"classification_report.json\"), \"w\") as f:\n",
        "    json.dump(clf_report, f, indent=4)\n"
      ],
      "metadata": {
        "colab": {
          "base_uri": "https://localhost:8080/",
          "height": 964
        },
        "id": "qsDlPJr6aiwO",
        "outputId": "9c5c5a26-e369-49c9-a339-da6310d38024"
      },
      "execution_count": null,
      "outputs": [
        {
          "output_type": "stream",
          "name": "stderr",
          "text": [
            "<ipython-input-19-a4242c066006>:26: UserWarning: To copy construct from a tensor, it is recommended to use sourceTensor.clone().detach() or sourceTensor.clone().detach().requires_grad_(True), rather than torch.tensor(sourceTensor).\n",
            "  item = {key: torch.tensor(val[idx]) for key, val in self.encodings.items()}\n"
          ]
        },
        {
          "output_type": "display_data",
          "data": {
            "text/plain": [
              "<IPython.core.display.HTML object>"
            ],
            "text/html": []
          },
          "metadata": {}
        },
        {
          "output_type": "display_data",
          "data": {
            "text/plain": [
              "<Figure size 1000x800 with 2 Axes>"
            ],
            "image/png": "[encoded data removed]"
          },
          "metadata": {}
        },
        {
          "output_type": "stream",
          "name": "stdout",
          "text": [
            "              precision    recall  f1-score   support\n",
            "\n",
            "    Positive       0.89      0.91      0.90      4154\n",
            "     Neutral       0.89      0.91      0.90      3643\n",
            "    Negative       0.93      0.91      0.92      4490\n",
            "  Irrelevant       0.91      0.87      0.89      2587\n",
            "\n",
            "    accuracy                           0.91     14874\n",
            "   macro avg       0.91      0.90      0.90     14874\n",
            "weighted avg       0.91      0.91      0.91     14874\n",
            "\n"
          ]
        }
      ]
    },
    {
      "cell_type": "markdown",
      "source": [
        "## Turning the Final Model into Pickle Files\n"
      ],
      "metadata": {
        "id": "z8S6bcNwGG8W"
      }
    },
    {
      "cell_type": "code",
      "source": [
        "import pickle\n",
        "\n",
        "# Save the predict function reference\n",
        "with open(os.path.join(BASE_DIR, \"predict_function.pkl\"), \"wb\") as f:\n",
        "    pickle.dump(predict_sentiment, f)\n",
        "\n",
        "# Save label mapping\n",
        "with open(os.path.join(BASE_DIR, \"label_mapping.pkl\"), \"wb\") as f:\n",
        "    pickle.dump(label_mapping, f)\n",
        "\n",
        "print(\"Model training and evaluation complete. All files saved to:\", BASE_DIR)\n"
      ],
      "metadata": {
        "colab": {
          "base_uri": "https://localhost:8080/"
        },
        "id": "YNTAjxKdalZ9",
        "outputId": "baaf3682-eb27-4ba5-de6a-60f4172714a5"
      },
      "execution_count": null,
      "outputs": [
        {
          "output_type": "stream",
          "name": "stdout",
          "text": [
            "Model training and evaluation complete. All files saved to: /content/drive/MyDrive/iJudge\n"
          ]
        }
      ]
    }
  ],
  "metadata": {
    "colab": {
      "provenance": [],
      "gpuType": "T4"
    },
    "kernelspec": {
      "display_name": "Python 3",
      "name": "python3"
    },
    "language_info": {
      "name": "python"
    },
    "accelerator": "GPU"
  },
  "nbformat": 4,
  "nbformat_minor": 0
}